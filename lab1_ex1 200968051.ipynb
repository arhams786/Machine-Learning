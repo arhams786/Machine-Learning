{
  "cells": [
    {
      "cell_type": "code",
      "execution_count": 1,
      "metadata": {
        "id": "JFLLGC4-if0I"
      },
      "outputs": [],
      "source": [
        "import pandas as pd\n",
        "import numpy as np"
      ]
    },
    {
      "cell_type": "code",
      "execution_count": 2,
      "metadata": {
        "id": "42ApXcMeif0L"
      },
      "outputs": [],
      "source": [
        "df = pd.read_csv(\"/content/mtcars.csv\")"
      ]
    },
    {
      "cell_type": "code",
      "execution_count": 3,
      "metadata": {
        "colab": {
          "base_uri": "https://localhost:8080/",
          "height": 301
        },
        "id": "XLIiBPejif0M",
        "outputId": "ef28af4b-a221-4253-b308-0c13b90f17e9"
      },
      "outputs": [
        {
          "output_type": "execute_result",
          "data": {
            "text/plain": [
              "<function matplotlib.pyplot.show>"
            ]
          },
          "metadata": {},
          "execution_count": 3
        },
        {
          "output_type": "display_data",
          "data": {
            "text/plain": [
              "<Figure size 432x288 with 1 Axes>"
            ],
            "image/png": "[encoded data removed]"
          },
          "metadata": {
            "needs_background": "light"
          }
        }
      ],
      "source": [
        "import matplotlib.pyplot as plt\n",
        "plt.plot(df['wt'],df['mpg'],'bo')\n",
        "plt.xlabel('weight')\n",
        "plt.ylabel('mpg')\n",
        "plt.grid()\n",
        "plt.show"
      ]
    },
    {
      "cell_type": "code",
      "execution_count": 6,
      "metadata": {
        "id": "orD4AgnJif0N"
      },
      "outputs": [],
      "source": [
        "x=np.array(df['wt'].values,'float')\n",
        "y=np.array(df['mpg'].values,'float')"
      ]
    },
    {
      "cell_type": "code",
      "execution_count": 7,
      "metadata": {
        "colab": {
          "base_uri": "https://localhost:8080/"
        },
        "id": "yr_LBpGbif0N",
        "outputId": "e950fd43-6131-4dfa-c350-09b060781be3"
      },
      "outputs": [
        {
          "output_type": "stream",
          "name": "stdout",
          "text": [
            "y = -5.344471572722677x + 37.285126167342035\n",
            "Y-intercept is : 37.285126167342035\n",
            "X-coefficient is : -5.344471572722677\n"
          ]
        }
      ],
      "source": [
        "def myFnLinReg(x,y):\n",
        "    x_mean = x.mean()\n",
        "    y_mean=y.mean()\n",
        "    b1 = (((x_mean-x)*(y_mean-y)).sum())/((x_mean-x)**2).sum()\n",
        "    b0 = y_mean-b1*x_mean\n",
        "    print(f'y = {b1}x + {b0}')\n",
        "    return b1,b0\n",
        "b1,b0 = myFnLinReg(x,y)\n",
        "print(\"Y-intercept is :\",b0)\n",
        "print(\"X-coefficient is :\",b1)\n",
        "\n",
        "    "
      ]
    },
    {
      "cell_type": "code",
      "execution_count": 8,
      "metadata": {
        "colab": {
          "base_uri": "https://localhost:8080/",
          "height": 295
        },
        "id": "_M04sU9Kif0O",
        "outputId": "4dee9390-1e04-498d-e6e1-6e0930d54606"
      },
      "outputs": [
        {
          "output_type": "display_data",
          "data": {
            "text/plain": [
              "<Figure size 432x288 with 1 Axes>"
            ],
            "image/png": "[encoded data removed]"
          },
          "metadata": {
            "needs_background": "light"
          }
        }
      ],
      "source": [
        "x=np.array(df['wt'])\n",
        "y=np.array(df['mpg'].values,'float')\n",
        "plt.plot(x,y,'bo')\n",
        "plt.plot(x,b1*x+b0,'r',label='RegLine')\n",
        "plt.title('Simple Linear Regression')\n",
        "\n",
        "plt.legend()\n",
        "plt.xlabel('Weight')\n",
        "plt.ylabel('MPG')\n",
        "plt.show()"
      ]
    },
    {
      "cell_type": "code",
      "execution_count": 9,
      "metadata": {
        "id": "0nXg4wD6if0P"
      },
      "outputs": [],
      "source": [
        "from sklearn.model_selection import train_test_split\n",
        "x_train,x_test,y_train,y_test  = train_test_split(x,y,test_size=0.2,random_state=42)\n"
      ]
    },
    {
      "cell_type": "code",
      "execution_count": 10,
      "metadata": {
        "colab": {
          "base_uri": "https://localhost:8080/"
        },
        "id": "hS5Y-C9Nif0P",
        "outputId": "d28ed26b-9b26-4918-bbfb-8b3529201179"
      },
      "outputs": [
        {
          "output_type": "stream",
          "name": "stdout",
          "text": [
            "y = -5.336941400557081x + 36.93731031351841\n"
          ]
        }
      ],
      "source": [
        "a_train,b_train = myFnLinReg(x_train,y_train)"
      ]
    },
    {
      "cell_type": "code",
      "execution_count": 11,
      "metadata": {
        "colab": {
          "base_uri": "https://localhost:8080/"
        },
        "id": "CUleCWORif0Q",
        "outputId": "b4533c03-793a-4487-f288-98451b35b00f"
      },
      "outputs": [
        {
          "output_type": "stream",
          "name": "stdout",
          "text": [
            "MPG of the car of weight   5.5  is  7.890532517367312\n"
          ]
        }
      ],
      "source": [
        "print(\"MPG of the car of weight  \",5.5,\" is \",b0+b1*5.5)\n"
      ]
    },
    {
      "cell_type": "code",
      "execution_count": 12,
      "metadata": {
        "id": "7_NuU4xpif0Q"
      },
      "outputs": [],
      "source": [
        "def test_metrics(x_test,y_test,a_train,b_train):\n",
        "    y_pred = (a_train*x_test+b_train)\n",
        "    error = (y_test-y_pred)   # diff between original and predicted data\n",
        "    y_mean = np.mean(y_test)\n",
        "    rsme = np.sqrt((error**2).sum()/y_test.shape[0])\n",
        "    r2 = 1-(error**2).sum()/((y_test-y_mean)**2).sum()\n",
        "    return rsme,r2"
      ]
    },
    {
      "cell_type": "code",
      "execution_count": 13,
      "metadata": {
        "colab": {
          "base_uri": "https://localhost:8080/"
        },
        "id": "0He5U1pRif0R",
        "outputId": "c428f234-617e-4d95-9bdb-518db51f9f2a"
      },
      "outputs": [
        {
          "output_type": "stream",
          "name": "stdout",
          "text": [
            "RSME = 3.5321361326991405 and R2 = 0.6879761857596272\n"
          ]
        }
      ],
      "source": [
        "rsme,r2 = test_metrics(x_test,y_test,a_train,b_train)\n",
        "print(f'RSME = {rsme} and R2 = {r2}')"
      ]
    },
    {
      "cell_type": "code",
      "execution_count": 14,
      "metadata": {
        "id": "HtTdgyGDif0R"
      },
      "outputs": [],
      "source": [
        "X=np.array(df['wt'].values,'float')\n",
        "y=np.array(df['mpg'].values,'float')"
      ]
    },
    {
      "cell_type": "code",
      "execution_count": 15,
      "metadata": {
        "id": "htUW3C2cif0R"
      },
      "outputs": [],
      "source": [
        "X=X.reshape(X.shape[0],1)\n",
        "X = np.hstack([np.ones_like(X),X])\n",
        "y=y.reshape(y.shape[0],1)\n",
        "m = y.shape[0]\n",
        "#hstack numpy function adds a column of 1s this is to get the constant b of linear regression equation-->y=ax+b"
      ]
    },
    {
      "cell_type": "code",
      "execution_count": 16,
      "metadata": {
        "colab": {
          "base_uri": "https://localhost:8080/"
        },
        "id": "Q434JBBVif0S",
        "outputId": "c60cb7ea-98e4-47d7-b9b0-eaf840087248"
      },
      "outputs": [
        {
          "output_type": "execute_result",
          "data": {
            "text/plain": [
              "array([[0.],\n",
              "       [0.]])"
            ]
          },
          "metadata": {},
          "execution_count": 16
        }
      ],
      "source": [
        "theta = np.zeros((2,1))\n",
        "theta"
      ]
    },
    {
      "cell_type": "code",
      "execution_count": 17,
      "metadata": {
        "colab": {
          "base_uri": "https://localhost:8080/"
        },
        "id": "WObqsoJ7if0S",
        "outputId": "92d95d1b-31f7-4e2f-d282-e3c16987ff3b"
      },
      "outputs": [
        {
          "output_type": "execute_result",
          "data": {
            "text/plain": [
              "(array([[3.82736251],\n",
              "        [5.65342126]]), 25.226794810253708)"
            ]
          },
          "metadata": {},
          "execution_count": 17
        }
      ],
      "source": [
        "import random\n",
        "def stoch_gd(x,y,epochs, learning_rate = 0.001):\n",
        "    total_samples = x.shape[0]\n",
        "    cost_list = []\n",
        "    epoch_list = []\n",
        "    \n",
        "    for i in range(epochs):    \n",
        "        random_index = random.randint(0,total_samples-1) # random index from total samples\n",
        "        sample_x = x[random_index]\n",
        "        sample_y = y[random_index]\n",
        "\n",
        "        y_predicted = theta[0][0]*sample_x + theta[1][0]\n",
        "        theta0_grad = -(2/total_samples)*(sample_x*(sample_y-y_predicted))\n",
        "        theta1_grad = -(2/total_samples)*(sample_y-y_predicted)\n",
        "        theta[0][0] = theta[0][0] - learning_rate * theta0_grad\n",
        "        theta[1][0] = theta[1][0] - learning_rate * theta1_grad\n",
        "        \n",
        "        cost = (sample_y-y_predicted)**2\n",
        "        if i%100==0: # at every 100th iteration record the cost and epoch value\n",
        "            cost_list.append(cost)\n",
        "            epoch_list.append(i)\n",
        "        \n",
        "    return theta, cost, cost_list, epoch_list\n",
        "\n",
        "theta, cost_sgd, cost_list_sgd, epoch_list_sgd = stoch_gd(x_train,y_train,20000)\n",
        "theta, cost_sgd"
      ]
    },
    {
      "cell_type": "code",
      "execution_count": 18,
      "metadata": {
        "colab": {
          "base_uri": "https://localhost:8080/"
        },
        "id": "UR1bnrq0if0T",
        "outputId": "4622ef1e-7695-4cf9-b220-79b3cab7b259"
      },
      "outputs": [
        {
          "output_type": "stream",
          "name": "stdout",
          "text": [
            "RSME = 9.637740633358073 and R2 = -1.323075602167282\n"
          ]
        }
      ],
      "source": [
        "rsme,r2 = test_metrics(x_test,y_test,theta[0][0],theta[1][0])\n",
        "print(f'RSME = {rsme} and R2 = {r2}')"
      ]
    },
    {
      "cell_type": "code",
      "execution_count": 19,
      "metadata": {
        "id": "ouUSYFxbif0T"
      },
      "outputs": [],
      "source": [
        "# linear regression using \"mini-batch\" gradient descent\n",
        "\n",
        "# function to compute gradient of error function w.r.t. theta\n",
        "def gradient(X, y, theta):\n",
        "    h = np.dot(X, theta) #Hypothesis\n",
        "    grad = np.dot(X.T, (h - y))\n",
        "    return grad\n",
        "\n",
        "def cost(X, y, theta):\n",
        "    h = np.dot(X, theta)\n",
        "    J = (1/2)*np.dot((h - y).transpose(), (h - y))\n",
        "    return J[0]\n",
        "  \n",
        "# function to create a list containing mini-batches\n",
        "def create_mini_batches(X, y, batch_size):\n",
        "    mini_batches = []\n",
        "    data = np.hstack((X, y))\n",
        "    np.random.shuffle(data)\n",
        "    n_minibatches = data.shape[0] // batch_size\n",
        "    i = 0\n",
        "  \n",
        "    for i in range(n_minibatches + 1):\n",
        "        mini_batch = data[i * batch_size:(i + 1)*batch_size, :]\n",
        "        X_mini = mini_batch[:, :-1]\n",
        "        Y_mini = mini_batch[:, -1].reshape((-1, 1))\n",
        "        mini_batches.append((X_mini, Y_mini))\n",
        "    if data.shape[0] % batch_size != 0:\n",
        "        mini_batch = data[i * batch_size:data.shape[0]]\n",
        "        X_mini = mini_batch[:, :-1]\n",
        "        Y_mini = mini_batch[:, -1].reshape((-1, 1))\n",
        "        mini_batches.append((X_mini, Y_mini))\n",
        "    return mini_batches\n",
        "\n",
        "# function to perform mini-batch gradient descent\n",
        "def gradientDescent_Mini(X, y, learning_rate = 0.001, batch_size = 8):\n",
        "    cost_list=[]\n",
        "    theta = np.zeros((2, 1))\n",
        "    epoch_list=[]\n",
        "    max_iters = 10\n",
        "    for itr in range(max_iters):\n",
        "        mini_batches = create_mini_batches(X, y, batch_size)\n",
        "        for mini_batch in mini_batches:\n",
        "            X_mini, y_mini = mini_batch\n",
        "            theta = theta - learning_rate * gradient(X_mini, y_mini, theta)\n",
        "            cost_list.append(cost(X_mini, y_mini, theta))\n",
        "  \n",
        "    return theta, cost_list"
      ]
    },
    {
      "cell_type": "code",
      "execution_count": 20,
      "metadata": {
        "id": "Ucs-mIk2if0U"
      },
      "outputs": [],
      "source": [
        "x_train = x_train.reshape(25,1)\n",
        "x_train = np.hstack([np.ones_like(x_train),x_train])\n",
        "theta = np.zeros((2, 1))\n",
        "y_train = y_train.reshape(25,1)"
      ]
    },
    {
      "cell_type": "code",
      "execution_count": 21,
      "metadata": {
        "colab": {
          "base_uri": "https://localhost:8080/"
        },
        "id": "Rsuco5Laif0U",
        "outputId": "cf94143f-84ca-4a38-a4d7-cd1edf9dde21"
      },
      "outputs": [
        {
          "output_type": "execute_result",
          "data": {
            "text/plain": [
              "array([[2.12470301],\n",
              "       [4.61838914]])"
            ]
          },
          "metadata": {},
          "execution_count": 21
        }
      ],
      "source": [
        "theta, cost_list_mb = gradientDescent_Mini(x_train,y_train)\n",
        "theta"
      ]
    },
    {
      "cell_type": "code",
      "execution_count": null,
      "metadata": {
        "id": "GGjuYyBAif0U"
      },
      "outputs": [],
      "source": [
        ""
      ]
    }
  ],
  "metadata": {
    "kernelspec": {
      "display_name": "Python 3",
      "language": "python",
      "name": "python3"
    },
    "language_info": {
      "codemirror_mode": {
        "name": "ipython",
        "version": 3
      },
      "file_extension": ".py",
      "mimetype": "text/x-python",
      "name": "python",
      "nbconvert_exporter": "python",
      "pygments_lexer": "ipython3",
      "version": "3.8.3"
    },
    "colab": {
      "name": "lab1_ex1.ipynb",
      "provenance": []
    }
  },
  "nbformat": 4,
  "nbformat_minor": 0
}