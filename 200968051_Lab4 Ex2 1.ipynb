{
 "cells": [
  {
   "cell_type": "code",
   "execution_count": null,
   "id": "4dc3579f",
   "metadata": {
    "id": "4dc3579f"
   },
   "outputs": [],
   "source": [
    "import pandas as pd\n",
    "import matplotlib.pyplot as plt\n",
    "import seaborn as sns"
   ]
  },
  {
   "cell_type": "markdown",
   "id": "8308ead0",
   "metadata": {
    "id": "8308ead0"
   },
   "source": [
    "# Polynomial Regression with FuelConsumption.csv"
   ]
  },
  {
   "cell_type": "code",
   "execution_count": null,
   "id": "059a1646",
   "metadata": {
    "id": "059a1646",
    "outputId": "9c3c8884-dc07-4ec8-f60f-a28e5e26cf0d"
   },
   "outputs": [
    {
     "data": {
      "text/html": [
       "<div>\n",
       "<style scoped>\n",
       "    .dataframe tbody tr th:only-of-type {\n",
       "        vertical-align: middle;\n",
       "    }\n",
       "\n",
       "    .dataframe tbody tr th {\n",
       "        vertical-align: top;\n",
       "    }\n",
       "\n",
       "    .dataframe thead th {\n",
       "        text-align: right;\n",
       "    }\n",
       "</style>\n",
       "<table border=\"1\" class=\"dataframe\">\n",
       "  <thead>\n",
       "    <tr style=\"text-align: right;\">\n",
       "      <th></th>\n",
       "      <th>MODELYEAR</th>\n",
       "      <th>MAKE</th>\n",
       "      <th>MODEL</th>\n",
       "      <th>VEHICLECLASS</th>\n",
       "      <th>ENGINESIZE</th>\n",
       "      <th>CYLINDERS</th>\n",
       "      <th>TRANSMISSION</th>\n",
       "      <th>FUELTYPE</th>\n",
       "      <th>FUELCONSUMPTION_CITY</th>\n",
       "      <th>FUELCONSUMPTION_HWY</th>\n",
       "      <th>FUELCONSUMPTION_COMB</th>\n",
       "      <th>FUELCONSUMPTION_COMB_MPG</th>\n",
       "      <th>CO2EMISSIONS</th>\n",
       "    </tr>\n",
       "  </thead>\n",
       "  <tbody>\n",
       "    <tr>\n",
       "      <th>0</th>\n",
       "      <td>2014</td>\n",
       "      <td>ACURA</td>\n",
       "      <td>ILX</td>\n",
       "      <td>COMPACT</td>\n",
       "      <td>2.0</td>\n",
       "      <td>4</td>\n",
       "      <td>AS5</td>\n",
       "      <td>Z</td>\n",
       "      <td>9.9</td>\n",
       "      <td>6.7</td>\n",
       "      <td>8.5</td>\n",
       "      <td>33</td>\n",
       "      <td>196</td>\n",
       "    </tr>\n",
       "    <tr>\n",
       "      <th>1</th>\n",
       "      <td>2014</td>\n",
       "      <td>ACURA</td>\n",
       "      <td>ILX</td>\n",
       "      <td>COMPACT</td>\n",
       "      <td>2.4</td>\n",
       "      <td>4</td>\n",
       "      <td>M6</td>\n",
       "      <td>Z</td>\n",
       "      <td>11.2</td>\n",
       "      <td>7.7</td>\n",
       "      <td>9.6</td>\n",
       "      <td>29</td>\n",
       "      <td>221</td>\n",
       "    </tr>\n",
       "    <tr>\n",
       "      <th>2</th>\n",
       "      <td>2014</td>\n",
       "      <td>ACURA</td>\n",
       "      <td>ILX HYBRID</td>\n",
       "      <td>COMPACT</td>\n",
       "      <td>1.5</td>\n",
       "      <td>4</td>\n",
       "      <td>AV7</td>\n",
       "      <td>Z</td>\n",
       "      <td>6.0</td>\n",
       "      <td>5.8</td>\n",
       "      <td>5.9</td>\n",
       "      <td>48</td>\n",
       "      <td>136</td>\n",
       "    </tr>\n",
       "    <tr>\n",
       "      <th>3</th>\n",
       "      <td>2014</td>\n",
       "      <td>ACURA</td>\n",
       "      <td>MDX 4WD</td>\n",
       "      <td>SUV - SMALL</td>\n",
       "      <td>3.5</td>\n",
       "      <td>6</td>\n",
       "      <td>AS6</td>\n",
       "      <td>Z</td>\n",
       "      <td>12.7</td>\n",
       "      <td>9.1</td>\n",
       "      <td>11.1</td>\n",
       "      <td>25</td>\n",
       "      <td>255</td>\n",
       "    </tr>\n",
       "    <tr>\n",
       "      <th>4</th>\n",
       "      <td>2014</td>\n",
       "      <td>ACURA</td>\n",
       "      <td>RDX AWD</td>\n",
       "      <td>SUV - SMALL</td>\n",
       "      <td>3.5</td>\n",
       "      <td>6</td>\n",
       "      <td>AS6</td>\n",
       "      <td>Z</td>\n",
       "      <td>12.1</td>\n",
       "      <td>8.7</td>\n",
       "      <td>10.6</td>\n",
       "      <td>27</td>\n",
       "      <td>244</td>\n",
       "    </tr>\n",
       "  </tbody>\n",
       "</table>\n",
       "</div>"
      ],
      "text/plain": [
       "   MODELYEAR   MAKE       MODEL VEHICLECLASS  ENGINESIZE  CYLINDERS  \\\n",
       "0       2014  ACURA         ILX      COMPACT         2.0          4   \n",
       "1       2014  ACURA         ILX      COMPACT         2.4          4   \n",
       "2       2014  ACURA  ILX HYBRID      COMPACT         1.5          4   \n",
       "3       2014  ACURA     MDX 4WD  SUV - SMALL         3.5          6   \n",
       "4       2014  ACURA     RDX AWD  SUV - SMALL         3.5          6   \n",
       "\n",
       "  TRANSMISSION FUELTYPE  FUELCONSUMPTION_CITY  FUELCONSUMPTION_HWY  \\\n",
       "0          AS5        Z                   9.9                  6.7   \n",
       "1           M6        Z                  11.2                  7.7   \n",
       "2          AV7        Z                   6.0                  5.8   \n",
       "3          AS6        Z                  12.7                  9.1   \n",
       "4          AS6        Z                  12.1                  8.7   \n",
       "\n",
       "   FUELCONSUMPTION_COMB  FUELCONSUMPTION_COMB_MPG  CO2EMISSIONS  \n",
       "0                   8.5                        33           196  \n",
       "1                   9.6                        29           221  \n",
       "2                   5.9                        48           136  \n",
       "3                  11.1                        25           255  \n",
       "4                  10.6                        27           244  "
      ]
     },
     "execution_count": 2,
     "metadata": {},
     "output_type": "execute_result"
    }
   ],
   "source": [
    "fc = pd.read_csv('FuelConsumption.csv')\n",
    "fc.head()"
   ]
  },
  {
   "cell_type": "code",
   "execution_count": null,
   "id": "9b582c24",
   "metadata": {
    "id": "9b582c24",
    "outputId": "0c8222cd-a2a1-4bdb-f831-198e0bfb4193"
   },
   "outputs": [
    {
     "data": {
      "text/plain": [
       "MODELYEAR                   0\n",
       "MAKE                        0\n",
       "MODEL                       0\n",
       "VEHICLECLASS                0\n",
       "ENGINESIZE                  0\n",
       "CYLINDERS                   0\n",
       "TRANSMISSION                0\n",
       "FUELTYPE                    0\n",
       "FUELCONSUMPTION_CITY        0\n",
       "FUELCONSUMPTION_HWY         0\n",
       "FUELCONSUMPTION_COMB        0\n",
       "FUELCONSUMPTION_COMB_MPG    0\n",
       "CO2EMISSIONS                0\n",
       "dtype: int64"
      ]
     },
     "execution_count": 3,
     "metadata": {},
     "output_type": "execute_result"
    }
   ],
   "source": [
    "fc.isnull().sum()"
   ]
  },
  {
   "cell_type": "code",
   "execution_count": null,
   "id": "e9c84628",
   "metadata": {
    "id": "e9c84628",
    "outputId": "6ec29e66-75ae-48a1-ecde-fafb4ef47249"
   },
   "outputs": [
    {
     "data": {
      "text/plain": [
       "(1067, 13)"
      ]
     },
     "execution_count": 4,
     "metadata": {},
     "output_type": "execute_result"
    }
   ],
   "source": [
    "fc.shape"
   ]
  },
  {
   "cell_type": "code",
   "execution_count": null,
   "id": "86d4cde6",
   "metadata": {
    "id": "86d4cde6",
    "outputId": "59287c44-222a-4c66-945f-6abb4dfe35ae"
   },
   "outputs": [
    {
     "data": {
      "text/plain": [
       "Index(['MODELYEAR', 'MAKE', 'MODEL', 'VEHICLECLASS', 'ENGINESIZE', 'CYLINDERS',\n",
       "       'TRANSMISSION', 'FUELTYPE', 'FUELCONSUMPTION_CITY',\n",
       "       'FUELCONSUMPTION_HWY', 'FUELCONSUMPTION_COMB',\n",
       "       'FUELCONSUMPTION_COMB_MPG', 'CO2EMISSIONS'],\n",
       "      dtype='object')"
      ]
     },
     "execution_count": 5,
     "metadata": {},
     "output_type": "execute_result"
    }
   ],
   "source": [
    "fc.columns"
   ]
  },
  {
   "cell_type": "markdown",
   "id": "9e337a5a",
   "metadata": {
    "id": "9e337a5a"
   },
   "source": [
    "## Feature Selection"
   ]
  },
  {
   "cell_type": "code",
   "execution_count": null,
   "id": "be512d35",
   "metadata": {
    "id": "be512d35"
   },
   "outputs": [],
   "source": [
    "X = fc[['ENGINESIZE', 'CYLINDERS', 'FUELCONSUMPTION_COMB']]\n",
    "y = fc['CO2EMISSIONS']"
   ]
  },
  {
   "cell_type": "code",
   "execution_count": null,
   "id": "bc916851",
   "metadata": {
    "id": "bc916851",
    "outputId": "732bf007-7a95-4e92-e115-57ebb414600c"
   },
   "outputs": [
    {
     "data": {
      "text/html": [
       "<div>\n",
       "<style scoped>\n",
       "    .dataframe tbody tr th:only-of-type {\n",
       "        vertical-align: middle;\n",
       "    }\n",
       "\n",
       "    .dataframe tbody tr th {\n",
       "        vertical-align: top;\n",
       "    }\n",
       "\n",
       "    .dataframe thead th {\n",
       "        text-align: right;\n",
       "    }\n",
       "</style>\n",
       "<table border=\"1\" class=\"dataframe\">\n",
       "  <thead>\n",
       "    <tr style=\"text-align: right;\">\n",
       "      <th></th>\n",
       "      <th>ENGINESIZE</th>\n",
       "      <th>CYLINDERS</th>\n",
       "      <th>FUELCONSUMPTION_COMB</th>\n",
       "    </tr>\n",
       "  </thead>\n",
       "  <tbody>\n",
       "    <tr>\n",
       "      <th>0</th>\n",
       "      <td>2.0</td>\n",
       "      <td>4</td>\n",
       "      <td>8.5</td>\n",
       "    </tr>\n",
       "    <tr>\n",
       "      <th>1</th>\n",
       "      <td>2.4</td>\n",
       "      <td>4</td>\n",
       "      <td>9.6</td>\n",
       "    </tr>\n",
       "    <tr>\n",
       "      <th>2</th>\n",
       "      <td>1.5</td>\n",
       "      <td>4</td>\n",
       "      <td>5.9</td>\n",
       "    </tr>\n",
       "    <tr>\n",
       "      <th>3</th>\n",
       "      <td>3.5</td>\n",
       "      <td>6</td>\n",
       "      <td>11.1</td>\n",
       "    </tr>\n",
       "    <tr>\n",
       "      <th>4</th>\n",
       "      <td>3.5</td>\n",
       "      <td>6</td>\n",
       "      <td>10.6</td>\n",
       "    </tr>\n",
       "  </tbody>\n",
       "</table>\n",
       "</div>"
      ],
      "text/plain": [
       "   ENGINESIZE  CYLINDERS  FUELCONSUMPTION_COMB\n",
       "0         2.0          4                   8.5\n",
       "1         2.4          4                   9.6\n",
       "2         1.5          4                   5.9\n",
       "3         3.5          6                  11.1\n",
       "4         3.5          6                  10.6"
      ]
     },
     "execution_count": 7,
     "metadata": {},
     "output_type": "execute_result"
    }
   ],
   "source": [
    "X.head()"
   ]
  },
  {
   "cell_type": "code",
   "execution_count": null,
   "id": "66dc5ce3",
   "metadata": {
    "id": "66dc5ce3",
    "outputId": "f7be2421-a2af-4f27-913e-922c06a90c7a"
   },
   "outputs": [
    {
     "data": {
      "text/plain": [
       "0    196\n",
       "1    221\n",
       "2    136\n",
       "3    255\n",
       "4    244\n",
       "Name: CO2EMISSIONS, dtype: int64"
      ]
     },
     "execution_count": 8,
     "metadata": {},
     "output_type": "execute_result"
    }
   ],
   "source": [
    "y.head()"
   ]
  },
  {
   "cell_type": "code",
   "execution_count": null,
   "id": "3169a73d",
   "metadata": {
    "id": "3169a73d",
    "outputId": "469abadd-4bee-4e35-9cb0-e00ce0526ae2"
   },
   "outputs": [
    {
     "data": {
      "image/png": "[encoded data removed]",
      "text/plain": [
       "<Figure size 432x288 with 1 Axes>"
      ]
     },
     "metadata": {
      "needs_background": "light"
     },
     "output_type": "display_data"
    }
   ],
   "source": [
    "plt.scatter(X['ENGINESIZE'], y)\n",
    "plt.xlabel('Engine Size')\n",
    "plt.ylabel('CO2 Emissions')\n",
    "plt.title('Emissions vs Engine Size')\n",
    "plt.show()"
   ]
  },
  {
   "cell_type": "code",
   "execution_count": null,
   "id": "0bca3ae9",
   "metadata": {
    "id": "0bca3ae9",
    "outputId": "a3020aa8-7dee-4ded-f20e-dc2c3adb92b0"
   },
   "outputs": [
    {
     "data": {
      "image/png": "[encoded data removed]",
      "text/plain": [
       "<Figure size 432x288 with 1 Axes>"
      ]
     },
     "metadata": {
      "needs_background": "light"
     },
     "output_type": "display_data"
    }
   ],
   "source": [
    "sns.regplot(x = 'ENGINESIZE', y = 'CO2EMISSIONS', data = fc)\n",
    "plt.show()"
   ]
  },
  {
   "cell_type": "code",
   "execution_count": null,
   "id": "d3161f9c",
   "metadata": {
    "id": "d3161f9c"
   },
   "outputs": [],
   "source": [
    "from sklearn.model_selection import train_test_split\n",
    "from sklearn.linear_model import LinearRegression\n",
    "from sklearn.preprocessing import PolynomialFeatures\n",
    "from sklearn import metrics"
   ]
  },
  {
   "cell_type": "markdown",
   "id": "97e480fc",
   "metadata": {
    "id": "97e480fc"
   },
   "source": [
    "## Data split for model train and test "
   ]
  },
  {
   "cell_type": "code",
   "execution_count": null,
   "id": "8652b184",
   "metadata": {
    "id": "8652b184"
   },
   "outputs": [],
   "source": [
    "X_train, X_test, y_train, y_test = train_test_split(X, y, test_size = 0.3, random_state = 42)"
   ]
  },
  {
   "cell_type": "markdown",
   "id": "5e3ca72a",
   "metadata": {
    "id": "5e3ca72a"
   },
   "source": [
    "## Polynomial Regression and Model Evaluation "
   ]
  },
  {
   "cell_type": "code",
   "execution_count": null,
   "id": "bda3a6a1",
   "metadata": {
    "id": "bda3a6a1"
   },
   "outputs": [],
   "source": [
    "def poly_reg(X_train, X_test, y_train, y_test, l, u):\n",
    "    lr = LinearRegression()\n",
    "    print('Metrics of various degree polynomial regression:')\n",
    "    for i in range(l, u+1):\n",
    "        poly = PolynomialFeatures(degree = i)\n",
    "        X_train_trans = poly.fit_transform(X_train)\n",
    "        X_test_trans = poly.transform(X_test)\n",
    "        lr.fit(X_train_trans, y_train)\n",
    "        y_pred = lr.predict(X_test_trans)\n",
    "        r2 = metrics.r2_score(y_test, y_pred)\n",
    "        mae = metrics.mean_absolute_error(y_test, y_pred)\n",
    "        rss = metrics.mean_squared_error(y_test, y_pred) * y_test.shape[0]\n",
    "        print('\\nDegree', i)\n",
    "        print('r2 score:', r2)\n",
    "        print('Mean Absolute Error:', mae)\n",
    "        print('Sum of Squared Residuals:', rss)"
   ]
  },
  {
   "cell_type": "code",
   "execution_count": null,
   "id": "84b9c354",
   "metadata": {
    "id": "84b9c354",
    "outputId": "a8f6f1b3-2378-4102-b044-1296159b33df"
   },
   "outputs": [
    {
     "name": "stdout",
     "output_type": "stream",
     "text": [
      "Metrics of various degree polynomial regression:\n",
      "\n",
      "Degree 3\n",
      "r2 score: 0.9322474349854076\n",
      "Mean Absolute Error: 10.230711579367137\n",
      "Sum of Squared Residuals: 87722.80578346297\n",
      "\n",
      "Degree 4\n",
      "r2 score: 0.9359316964620019\n",
      "Mean Absolute Error: 9.645981137997635\n",
      "Sum of Squared Residuals: 82952.5988710433\n",
      "\n",
      "Degree 5\n",
      "r2 score: 0.9426167075750426\n",
      "Mean Absolute Error: 8.255203275108634\n",
      "Sum of Squared Residuals: 74297.16373876068\n"
     ]
    }
   ],
   "source": [
    "poly_reg(X_train, X_test, y_train, y_test, l = 3, u = 5)"
   ]
  },
  {
   "cell_type": "markdown",
   "id": "82939ba6",
   "metadata": {
    "id": "82939ba6"
   },
   "source": [
    "Model with degree 5 gives us the best performance among the 3.     \n",
    "It has the highest r2 score and the least mean absolute error and rss"
   ]
  }
 ],
 "metadata": {
  "colab": {
   "name": "200968006_Exer2 (3).ipynb",
   "provenance": []
  },
  "kernelspec": {
   "display_name": "Python 3 (ipykernel)",
   "language": "python",
   "name": "python3"
  },
  "language_info": {
   "codemirror_mode": {
    "name": "ipython",
    "version": 3
   },
   "file_extension": ".py",
   "mimetype": "text/x-python",
   "name": "python",
   "nbconvert_exporter": "python",
   "pygments_lexer": "ipython3",
   "version": "3.9.7"
  }
 },
 "nbformat": 4,
 "nbformat_minor": 5
}
